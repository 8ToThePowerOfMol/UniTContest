{
 "cells": [
  {
   "cell_type": "markdown",
   "metadata": {},
   "source": [
    "## Connect to remote SQL server"
   ]
  },
  {
   "cell_type": "code",
   "execution_count": 8,
   "metadata": {},
   "outputs": [],
   "source": [
    "import pyodbc\n",
    "import pandas as pd\n",
    "server = 'hacker1'\n",
    "database = 'skodahacker1'\n",
    "username = 'hacker1'\n",
    "password = 'hacker1'\n",
    "driver= '{ODBC Driver 17 for SQL Server}'"
   ]
  },
  {
   "cell_type": "code",
   "execution_count": 9,
   "metadata": {},
   "outputs": [],
   "source": [
    "conn = pyodbc.connect('DRIVER='+driver+';SERVER='+server+';PORT=1433;DATABASE='+database+';UID='+username+';PWD='+ password)\n"
   ]
  },
  {
   "cell_type": "code",
   "execution_count": 10,
   "metadata": {},
   "outputs": [
    {
     "name": "stdout",
     "output_type": "stream",
     "text": [
      "[('skodahacker1', 'dbo', 'PC1_application', 'TABLE', None), ('skodahacker1', 'dbo', 'PC1_security', 'TABLE', None), ('skodahacker1', 'dbo', 'PC1_sysmon', 'TABLE', None), ('skodahacker1', 'dbo', 'PC1_system', 'TABLE', None), ('skodahacker1', 'dbo', 'PC2_application', 'TABLE', None), ('skodahacker1', 'dbo', 'PC2_security', 'TABLE', None), ('skodahacker1', 'dbo', 'PC2_sysmon', 'TABLE', None), ('skodahacker1', 'dbo', 'PC2_system', 'TABLE', None), ('skodahacker1', 'dbo', 'PC5_application', 'TABLE', None), ('skodahacker1', 'dbo', 'PC5_security', 'TABLE', None), ('skodahacker1', 'dbo', 'PC5_sysmon', 'TABLE', None), ('skodahacker1', 'dbo', 'PC5_system', 'TABLE', None), ('skodahacker1', 'dbo', 'PC6_application', 'TABLE', None), ('skodahacker1', 'dbo', 'PC6_security', 'TABLE', None), ('skodahacker1', 'dbo', 'PC6_sysmon', 'TABLE', None), ('skodahacker1', 'dbo', 'PC6_system', 'TABLE', None), ('skodahacker1', 'dbo', 'ufw_short', 'TABLE', None), ('skodahacker1', 'sys', 'trace_xe_action_map', 'TABLE', None), ('skodahacker1', 'sys', 'trace_xe_event_map', 'TABLE', None)]\n"
     ]
    }
   ],
   "source": [
    "cursor = conn.cursor()\n",
    "tables = cursor.tables(tableType='TABLE')\n",
    "list_of_tables = tables.fetchall()\n",
    "\n",
    "print(list_of_tables)"
   ]
  },
  {
   "cell_type": "code",
   "execution_count": 11,
   "metadata": {},
   "outputs": [
    {
     "data": {
      "text/plain": [
       "['PC1_application',\n",
       " 'PC1_security',\n",
       " 'PC1_sysmon',\n",
       " 'PC1_system',\n",
       " 'PC2_application',\n",
       " 'PC2_security',\n",
       " 'PC2_sysmon',\n",
       " 'PC2_system',\n",
       " 'PC5_application',\n",
       " 'PC5_security',\n",
       " 'PC5_sysmon',\n",
       " 'PC5_system',\n",
       " 'PC6_application',\n",
       " 'PC6_security',\n",
       " 'PC6_sysmon',\n",
       " 'PC6_system',\n",
       " 'ufw_short']"
      ]
     },
     "execution_count": 11,
     "metadata": {},
     "output_type": "execute_result"
    }
   ],
   "source": [
    "list_of_tables = [x[2] for x in list_of_tables]\n",
    "list_of_tables = list_of_tables[:-2] # last two tables are sys tables\n",
    "list_of_tables"
   ]
  },
  {
   "cell_type": "code",
   "execution_count": 12,
   "metadata": {},
   "outputs": [],
   "source": [
    "sql = \"\"\"\n",
    " SELECT top(10) message FROM PC1_application\n",
    " \"\"\"\n",
    "df = pd.read_sql(sql, conn)\n",
    "mydoc = df['message'].values"
   ]
  },
  {
   "cell_type": "code",
   "execution_count": 13,
   "metadata": {},
   "outputs": [],
   "source": [
    "mydoc.size\n",
    "df_idf = mydoc"
   ]
  },
  {
   "cell_type": "code",
   "execution_count": 14,
   "metadata": {},
   "outputs": [
    {
     "data": {
      "text/plain": [
       "array(['Successfully scheduled Software Protection service for re-start at 2119-03-03T02:01:41Z. Reason: RulesEngine.',\n",
       "       'Offline downlevel migration succeeded.',\n",
       "       'svchost (368,G,98) The beta feature EseDiskFlushConsistency is enabled in ESENT due to the beta site mode settings 0x800000.',\n",
       "       'svchost (368,G,98) The beta feature EseDiskFlushConsistency is enabled in ESENT due to the beta site mode settings 0x800000.',\n",
       "       'svchost (368,G,98) The beta feature EseDiskFlushConsistency is enabled in ESENT due to the beta site mode settings 0x800000.',\n",
       "       'svchost (368,G,98) The beta feature EseDiskFlushConsistency is enabled in ESENT due to the beta site mode settings 0x800000.',\n",
       "       'The VSS service is shutting down due to idle timeout. ',\n",
       "       'svchost (368,G,98) The beta feature EseDiskFlushConsistency is enabled in ESENT due to the beta site mode settings 0x800000.',\n",
       "       'svchost (1032,D,50) DS_Token_DB: The database engine attached a database (1, C:\\\\WINDOWS\\\\system32\\\\config\\\\systemprofile\\\\AppData\\\\Local\\\\DataSharing\\\\Storage\\\\DSTokenDB2.dat). (Time=0 seconds) \\r\\n \\r\\nSaved Cache: 1 0 \\r\\nAdditional Data: lgposAttach = 00000003:000C:0268 \\r\\n \\r\\nInternal Timing Sequence: \\n[1] 0.000002 +J(0)\\n[2] 0.001728 +J(0) +M(C:0K, Fs:17, WS:4K # 0K, PF:4K # 0K, P:4K)\\n[3] 0.017206 +J(CM:0, PgRf:0, Rd:0/0, Dy:0/0, Lg:3480/2) +M(C:0K, Fs:6, WS:20K # 0K, PF:20K # 0K, P:20K)\\n[4] 0.000765 +J(0)\\n[5] -\\n[6] -\\n[7] 0.012343 -0.012205 (1) CM +J(CM:1, PgRf:2, Rd:4/0, Dy:0/0, Lg:0/0) +M(C:8K, Fs:4, WS:16K # 0K, PF:8K # 0K, P:8K)\\n[8] 0.006855 -0.005899 (5) CM +J(CM:5, PgRf:23, Rd:0/5, Dy:0/0, Lg:0/0) +M(C:0K, Fs:30, WS:120K # 0K, PF:196K # 0K, P:196K)\\n[9] 0.006702 -0.006518 (3) CM +J(CM:3, PgRf:40, Rd:0/3, Dy:0/0, Lg:0/0) +M(C:0K, Fs:3, WS:12K # 0K, PF:64K # 0K, P:64K)\\n[10] 0.000445 -0.000362 (1) CM +J(CM:1, PgRf:1, Rd:0/1, Dy:0/0, Lg:0/0) +M(C:0K, Fs:1, WS:4K # 0K, PF:0K # 0K, P:0K)\\n[11] 0.000536 -0.000451 (1) CM +J(CM:1, PgRf:42, Rd:0/1, Dy:0/0, Lg:0/0)\\n[12] 0.000001 +J(0)\\n[13] 0.0 +J(0)\\n[14] 0.000737 -0.000696 (1) CM +J(CM:1, PgRf:1, Rd:0/1, Dy:0/0, Lg:0/0).',\n",
       "       'svchost (1032,D,0) DS_Token_DB: The database engine started a new instance (0). (Time=0 seconds) \\r\\n \\r\\nAdditional Data:\\r\\n lgposV2[] = 00000003:0007:0000 - 00000003:000A:0000 - 00000000:0000:0000 - 00000003:000A:0000 (00000000:0000:0000)\\ncReInits = 2\\n \\r\\n \\r\\nInternal Timing Sequence: \\n[1] 0.000661 +J(0) +M(C:0K, Fs:112, WS:436K # 0K, PF:2344K # 0K, P:2344K)\\n[2] 0.000761 +J(0) +M(C:8K, Fs:127, WS:500K # 0K, PF:1144K # 0K, P:1144K)\\n[3] 0.000017 +J(0) +M(C:0K, Fs:2, WS:4K # 0K, PF:68K # 0K, P:68K)\\n[4] 0.000627 +J(0) +M(C:0K, Fs:31, WS:124K # 0K, PF:168K # 0K, P:168K)\\n[5] 0.001689 +J(0) +M(C:0K, Fs:10, WS:40K # 0K, PF:28K # 0K, P:28K)\\n[6] 0.004139 +J(0) +M(C:0K, Fs:26, WS:100K # 0K, PF:40K # 0K, P:40K)\\n[7] 0.003811 +J(0) +M(C:0K, Fs:32, WS:128K # 0K, PF:72K # 0K, P:72K)\\n[8] 0.031884 +J(CM:0, PgRf:0, Rd:0/0, Dy:0/0, Lg:36504/22) +M(C:0K, Fs:143, WS:348K # 0K, PF:244K # 0K, P:244K)\\n[9] -\\n[10] 0.001253 +J(0) +M(C:0K, Fs:1, WS:-56K # 0K, PF:-60K # 0K, P:-60K)\\n[11] 0.000019 +J(CM:0, PgRf:0, Rd:0/0, Dy:0/0, Lg:49/1) +M(C:0K, Fs:2, WS:8K # 0K, PF:0K # 0K, P:0K)\\n[12] 0.002257 +J(0) +M(C:0K, Fs:3, WS:12K # 0K, PF:0K # 0K, P:0K)\\n[13] 0.054563 -0.000818 (2) CM +J(CM:2, PgRf:2, Rd:0/2, Dy:0/0, Lg:8759/5) +M(C:0K, Fs:76, WS:144K # 0K, PF:160K # 0K, P:160K)\\n[14] 0.000013 +J(0)\\n[15] 0.000013 +J(0)\\n[16] 0.000282 +J(0) +M(C:0K, Fs:2, WS:0K # 0K, PF:0K # 0K, P:0K).'],\n",
       "      dtype=object)"
      ]
     },
     "execution_count": 14,
     "metadata": {},
     "output_type": "execute_result"
    }
   ],
   "source": [
    "df_idf"
   ]
  },
  {
   "cell_type": "code",
   "execution_count": null,
   "metadata": {},
   "outputs": [],
   "source": []
  }
 ],
 "metadata": {
  "kernelspec": {
   "display_name": "Python 3",
   "language": "python",
   "name": "python3"
  },
  "language_info": {
   "codemirror_mode": {
    "name": "ipython",
    "version": 3
   },
   "file_extension": ".py",
   "mimetype": "text/x-python",
   "name": "python",
   "nbconvert_exporter": "python",
   "pygments_lexer": "ipython3",
   "version": "3.7.1"
  }
 },
 "nbformat": 4,
 "nbformat_minor": 2
}
